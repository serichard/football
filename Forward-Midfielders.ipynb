{
 "cells": [
  {
   "cell_type": "code",
   "execution_count": 13,
   "metadata": {},
   "outputs": [],
   "source": [
    "import pandas as pd\n",
    "import tensorflow as tf\n",
    "from tensorflow import keras\n",
    "from tensorflow.keras import layers, models\n",
    "import matplotlib.pyplot as plt\n",
    "import numpy as np\n",
    "from keras.models import Sequential\n",
    "from keras.layers import Dense"
   ]
  },
  {
   "cell_type": "code",
   "execution_count": 9,
   "metadata": {},
   "outputs": [
    {
     "name": "stderr",
     "output_type": "stream",
     "text": [
      "<ipython-input-9-6ddf2da35ec4>:4: FutureWarning: Indexing with multiple keys (implicitly converted to a tuple of keys) will be deprecated, use a list instead.\n",
      "  dataForwardFeatures=dataForward.groupby('playerId')['assistTotal','keyPassesTotal','dribbleWon', 'dispossessedPerGame','goalTotal'].mean().fillna(0)\n"
     ]
    }
   ],
   "source": [
    "data=pd.read_csv('WhoScoredFinal1.csv', delimiter=',')\n",
    "\n",
    "dataForward=data[(data['positionText']=='Forwad')|(data['positionText']=='Midfielder')][['playerId','lastName','assistTotal', 'keyPassesTotal', 'dribbleWon', 'dispossessedPerGame','goalTotal','rating']]\n",
    "dataForwardFeatures=dataForward.groupby('playerId')['assistTotal','keyPassesTotal','dribbleWon', 'dispossessedPerGame','goalTotal'].mean().fillna(0)\n",
    "dataForwardLabels=dataForward.groupby('playerId')['rating'].mean().fillna(0)"
   ]
  },
  {
   "cell_type": "code",
   "execution_count": 10,
   "metadata": {},
   "outputs": [],
   "source": [
    "from sklearn.model_selection import train_test_split\n",
    "from sklearn import preprocessing\n",
    "\n",
    "trainFeatures, testFeatures, trainLables, testLabels = train_test_split(dataForwardFeatures, dataForwardLabels, test_size=0.25)\n",
    "\n",
    "min_max_scaler = preprocessing.MinMaxScaler()\n",
    "trainFeaturesScaled = pd.DataFrame(min_max_scaler.fit_transform(trainFeatures))\n",
    "testFeaturesScaled = pd.DataFrame(min_max_scaler.fit_transform(testFeatures))\n",
    "\n",
    "trainLablesScaled = pd.DataFrame(min_max_scaler.fit_transform(trainLables.to_numpy().reshape(-1, 1)))\n",
    "testLabelsScaled = pd.DataFrame(min_max_scaler.fit_transform(testLabels.to_numpy().reshape(-1, 1)))"
   ]
  },
  {
   "cell_type": "code",
   "execution_count": 11,
   "metadata": {},
   "outputs": [
    {
     "data": {
      "text/plain": [
       "playerId\n",
       "3         6.082955\n",
       "11        7.164530\n",
       "17        7.041550\n",
       "29        6.105714\n",
       "48        7.195092\n",
       "            ...   \n",
       "393392    6.310000\n",
       "393393    6.390000\n",
       "393395    6.230000\n",
       "393562    5.960000\n",
       "394786    6.430000\n",
       "Name: rating, Length: 9161, dtype: float64"
      ]
     },
     "execution_count": 11,
     "metadata": {},
     "output_type": "execute_result"
    }
   ],
   "source": [
    "dataForwardLabels"
   ]
  },
  {
   "cell_type": "code",
   "execution_count": 30,
   "metadata": {},
   "outputs": [
    {
     "name": "stdout",
     "output_type": "stream",
     "text": [
      "Model: \"sequential_3\"\n",
      "_________________________________________________________________\n",
      "Layer (type)                 Output Shape              Param #   \n",
      "=================================================================\n",
      "dense_6 (Dense)              (None, 5)                 30        \n",
      "_________________________________________________________________\n",
      "dense_7 (Dense)              (None, 3)                 18        \n",
      "_________________________________________________________________\n",
      "dense_8 (Dense)              (None, 1)                 4         \n",
      "=================================================================\n",
      "Total params: 52\n",
      "Trainable params: 52\n",
      "Non-trainable params: 0\n",
      "_________________________________________________________________\n"
     ]
    }
   ],
   "source": [
    "# MLP\n",
    "\n",
    "modelMLP = Sequential()\n",
    "modelMLP.add(Dense(5, input_shape=(5, ), activation='relu'))\n",
    "modelMLP.add(Dense(3, activation='relu'))\n",
    "modelMLP.add(Dense(1, activation='relu'))\n",
    "modelMLP.summary()"
   ]
  },
  {
   "cell_type": "code",
   "execution_count": 35,
   "metadata": {},
   "outputs": [
    {
     "name": "stdout",
     "output_type": "stream",
     "text": [
      "Epoch 1/10\n",
      "7/7 [==============================] - 0s 1ms/step - loss: 40.6197 - mean_squared_error: 40.6197\n",
      "Epoch 2/10\n",
      "7/7 [==============================] - 0s 1ms/step - loss: 40.3771 - mean_squared_error: 40.3771\n",
      "Epoch 3/10\n",
      "7/7 [==============================] - 0s 1ms/step - loss: 40.2149 - mean_squared_error: 40.2149\n",
      "Epoch 4/10\n",
      "7/7 [==============================] - 0s 1ms/step - loss: 40.0198 - mean_squared_error: 40.0198\n",
      "Epoch 5/10\n",
      "7/7 [==============================] - 0s 999us/step - loss: 39.8041 - mean_squared_error: 39.8041\n",
      "Epoch 6/10\n",
      "7/7 [==============================] - 0s 1ms/step - loss: 39.5271 - mean_squared_error: 39.5271\n",
      "Epoch 7/10\n",
      "7/7 [==============================] - 0s 1ms/step - loss: 39.3218 - mean_squared_error: 39.3218\n",
      "Epoch 8/10\n",
      "7/7 [==============================] - 0s 1ms/step - loss: 39.0490 - mean_squared_error: 39.0490\n",
      "Epoch 9/10\n",
      "7/7 [==============================] - 0s 1ms/step - loss: 38.8025 - mean_squared_error: 38.8025\n",
      "Epoch 10/10\n",
      "7/7 [==============================] - 0s 1ms/step - loss: 38.3516 - mean_squared_error: 38.3516\n"
     ]
    }
   ],
   "source": [
    "modelMLP.compile(loss='mean_squared_error',\n",
    "              optimizer= 'adam',\n",
    "              metrics=['mean_squared_error'])\n",
    "\n",
    "historyMLP = modelMLP.fit(trainFeaturesScaled, trainLables, epochs=10, batch_size=1000) #, validation_data=(testFeaturesScaled, testLabels))"
   ]
  },
  {
   "cell_type": "code",
   "execution_count": 33,
   "metadata": {},
   "outputs": [
    {
     "data": {
      "text/plain": [
       "array([[7.40690000e+04, 6.37963158e+00, 1.24201551e-01],\n",
       "       [2.06590000e+04, 6.03500000e+00, 1.42607167e-01],\n",
       "       [2.30500000e+03, 6.84576923e+00, 2.16048896e-01],\n",
       "       ...,\n",
       "       [3.55779000e+05, 6.73347692e+00, 1.43596664e-01],\n",
       "       [2.71619000e+05, 6.08633333e+00, 1.33410990e-01],\n",
       "       [3.28610000e+04, 6.79731782e+00, 1.66336715e-01]])"
      ]
     },
     "execution_count": 33,
     "metadata": {},
     "output_type": "execute_result"
    }
   ],
   "source": [
    "predicted = modelMLP.predict(testFeaturesScaled)\n",
    "# predicted\n",
    "indexes = np.array(testLabels.index)\n",
    "indexes = indexes.reshape(2291,1)\n",
    "labels = np.array(testLabels).reshape(2291,1)\n",
    "np.concatenate((indexes,labels,predicted), axis=1)"
   ]
  },
  {
   "cell_type": "code",
   "execution_count": 34,
   "metadata": {},
   "outputs": [
    {
     "name": "stdout",
     "output_type": "stream",
     "text": [
      "72/72 [==============================] - 0s 535us/step - loss: 0.1275 - mean_squared_error: 0.1275\n"
     ]
    },
    {
     "data": {
      "text/plain": [
       "[0.1275159865617752, 0.1275159865617752]"
      ]
     },
     "execution_count": 34,
     "metadata": {},
     "output_type": "execute_result"
    }
   ],
   "source": [
    "modelMLP.evaluate(testFeaturesScaled, testLabelsScaled)"
   ]
  },
  {
   "cell_type": "code",
   "execution_count": null,
   "metadata": {},
   "outputs": [],
   "source": []
  }
 ],
 "metadata": {
  "kernelspec": {
   "display_name": "Python 3",
   "language": "python",
   "name": "python3"
  },
  "language_info": {
   "codemirror_mode": {
    "name": "ipython",
    "version": 3
   },
   "file_extension": ".py",
   "mimetype": "text/x-python",
   "name": "python",
   "nbconvert_exporter": "python",
   "pygments_lexer": "ipython3",
   "version": "3.8.3"
  }
 },
 "nbformat": 4,
 "nbformat_minor": 4
}
